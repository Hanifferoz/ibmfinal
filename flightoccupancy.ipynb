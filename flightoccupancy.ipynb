{
 "cells": [
  {
   "cell_type": "markdown",
   "metadata": {},
   "source": [
    "# Import Required Libraries"
   ]
  },
  {
   "cell_type": "code",
   "execution_count": 1,
   "metadata": {},
   "outputs": [],
   "source": [
    "import pickle \n",
    "import pandas as pd\n",
    "import numpy as np\n",
    "import matplotlib.pyplot as plt\n",
    "\n",
    "\n",
    "from sklearn.metrics import confusion_matrix\n",
    "from sklearn import metrics\n",
    "\n"
   ]
  },
  {
   "cell_type": "markdown",
   "metadata": {},
   "source": [
    "# Reading the CSV File"
   ]
  },
  {
   "cell_type": "code",
   "execution_count": 2,
   "metadata": {
    "scrolled": true
   },
   "outputs": [
    {
     "data": {
      "text/html": [
       "<div>\n",
       "<style scoped>\n",
       "    .dataframe tbody tr th:only-of-type {\n",
       "        vertical-align: middle;\n",
       "    }\n",
       "\n",
       "    .dataframe tbody tr th {\n",
       "        vertical-align: top;\n",
       "    }\n",
       "\n",
       "    .dataframe thead th {\n",
       "        text-align: right;\n",
       "    }\n",
       "</style>\n",
       "<table border=\"1\" class=\"dataframe\">\n",
       "  <thead>\n",
       "    <tr style=\"text-align: right;\">\n",
       "      <th></th>\n",
       "      <th>From</th>\n",
       "      <th>To</th>\n",
       "      <th>Day</th>\n",
       "      <th>Month</th>\n",
       "      <th>Holiday</th>\n",
       "      <th>Distance</th>\n",
       "      <th>Occupancy</th>\n",
       "    </tr>\n",
       "  </thead>\n",
       "  <tbody>\n",
       "    <tr>\n",
       "      <th>0</th>\n",
       "      <td>2</td>\n",
       "      <td>1</td>\n",
       "      <td>1</td>\n",
       "      <td>3</td>\n",
       "      <td>1</td>\n",
       "      <td>1717.93</td>\n",
       "      <td>92</td>\n",
       "    </tr>\n",
       "    <tr>\n",
       "      <th>1</th>\n",
       "      <td>7</td>\n",
       "      <td>2</td>\n",
       "      <td>7</td>\n",
       "      <td>1</td>\n",
       "      <td>1</td>\n",
       "      <td>1561.76</td>\n",
       "      <td>98</td>\n",
       "    </tr>\n",
       "    <tr>\n",
       "      <th>2</th>\n",
       "      <td>1</td>\n",
       "      <td>3</td>\n",
       "      <td>6</td>\n",
       "      <td>9</td>\n",
       "      <td>0</td>\n",
       "      <td>2079.00</td>\n",
       "      <td>81</td>\n",
       "    </tr>\n",
       "    <tr>\n",
       "      <th>3</th>\n",
       "      <td>7</td>\n",
       "      <td>2</td>\n",
       "      <td>5</td>\n",
       "      <td>12</td>\n",
       "      <td>0</td>\n",
       "      <td>1561.76</td>\n",
       "      <td>84</td>\n",
       "    </tr>\n",
       "    <tr>\n",
       "      <th>4</th>\n",
       "      <td>2</td>\n",
       "      <td>1</td>\n",
       "      <td>5</td>\n",
       "      <td>1</td>\n",
       "      <td>0</td>\n",
       "      <td>1717.93</td>\n",
       "      <td>80</td>\n",
       "    </tr>\n",
       "  </tbody>\n",
       "</table>\n",
       "</div>"
      ],
      "text/plain": [
       "   From  To  Day  Month  Holiday  Distance  Occupancy\n",
       "0     2   1    1      3        1   1717.93         92\n",
       "1     7   2    7      1        1   1561.76         98\n",
       "2     1   3    6      9        0   2079.00         81\n",
       "3     7   2    5     12        0   1561.76         84\n",
       "4     2   1    5      1        0   1717.93         80"
      ]
     },
     "execution_count": 2,
     "metadata": {},
     "output_type": "execute_result"
    }
   ],
   "source": [
    "data=pd.read_csv('occupancy.csv')\n",
    "data.head()"
   ]
  },
  {
   "cell_type": "code",
   "execution_count": 3,
   "metadata": {},
   "outputs": [
    {
     "name": "stdout",
     "output_type": "stream",
     "text": [
      "No of Null Values From 0\n",
      "No of Null Values To 0\n",
      "No of Null Values Day 0\n",
      "No of Null Values Holiday 0\n",
      "No of Null Values Distance 0\n",
      "No of Null Values Occupancy 0\n"
     ]
    }
   ],
   "source": [
    "print(\"No of Null Values From\",data['From'].isna().sum())\n",
    "print(\"No of Null Values To\",data['To'].isna().sum())\n",
    "print(\"No of Null Values Day\",data['Day'].isna().sum())\n",
    "print(\"No of Null Values Holiday\",data['Holiday'].isna().sum())\n",
    "print(\"No of Null Values Distance\",data['Distance'].isna().sum())\n",
    "print(\"No of Null Values Occupancy\",data['Occupancy'].isna().sum())"
   ]
  },
  {
   "cell_type": "code",
   "execution_count": 4,
   "metadata": {},
   "outputs": [
    {
     "name": "stdout",
     "output_type": "stream",
     "text": [
      "Empty DataFrame\n",
      "Columns: [From, To, Day, Month, Holiday, Distance, Occupancy]\n",
      "Index: []\n"
     ]
    }
   ],
   "source": [
    "# Check null values and Error\n",
    "print (data[pd.to_numeric(data.Day, errors='coerce').isnull()])"
   ]
  },
  {
   "cell_type": "code",
   "execution_count": 5,
   "metadata": {},
   "outputs": [
    {
     "name": "stdout",
     "output_type": "stream",
     "text": [
      "<class 'pandas.core.frame.DataFrame'>\n",
      "RangeIndex: 10683 entries, 0 to 10682\n",
      "Data columns (total 7 columns):\n",
      " #   Column     Non-Null Count  Dtype  \n",
      "---  ------     --------------  -----  \n",
      " 0   From       10683 non-null  int64  \n",
      " 1   To         10683 non-null  int64  \n",
      " 2   Day        10683 non-null  int64  \n",
      " 3   Month      10683 non-null  int64  \n",
      " 4   Holiday    10683 non-null  int64  \n",
      " 5   Distance   10683 non-null  float64\n",
      " 6   Occupancy  10683 non-null  int64  \n",
      "dtypes: float64(1), int64(6)\n",
      "memory usage: 584.4 KB\n"
     ]
    },
    {
     "data": {
      "text/html": [
       "<div>\n",
       "<style scoped>\n",
       "    .dataframe tbody tr th:only-of-type {\n",
       "        vertical-align: middle;\n",
       "    }\n",
       "\n",
       "    .dataframe tbody tr th {\n",
       "        vertical-align: top;\n",
       "    }\n",
       "\n",
       "    .dataframe thead th {\n",
       "        text-align: right;\n",
       "    }\n",
       "</style>\n",
       "<table border=\"1\" class=\"dataframe\">\n",
       "  <thead>\n",
       "    <tr style=\"text-align: right;\">\n",
       "      <th></th>\n",
       "      <th>From</th>\n",
       "      <th>To</th>\n",
       "      <th>Day</th>\n",
       "      <th>Month</th>\n",
       "      <th>Holiday</th>\n",
       "      <th>Distance</th>\n",
       "      <th>Occupancy</th>\n",
       "    </tr>\n",
       "  </thead>\n",
       "  <tbody>\n",
       "    <tr>\n",
       "      <th>count</th>\n",
       "      <td>10683.000000</td>\n",
       "      <td>10683.000000</td>\n",
       "      <td>10683.000000</td>\n",
       "      <td>10683.000000</td>\n",
       "      <td>10683.000000</td>\n",
       "      <td>10683.000000</td>\n",
       "      <td>10683.000000</td>\n",
       "    </tr>\n",
       "    <tr>\n",
       "      <th>mean</th>\n",
       "      <td>3.156510</td>\n",
       "      <td>2.658336</td>\n",
       "      <td>4.196106</td>\n",
       "      <td>5.534775</td>\n",
       "      <td>0.211925</td>\n",
       "      <td>1745.265117</td>\n",
       "      <td>85.117944</td>\n",
       "    </tr>\n",
       "    <tr>\n",
       "      <th>std</th>\n",
       "      <td>2.527518</td>\n",
       "      <td>1.460358</td>\n",
       "      <td>1.852655</td>\n",
       "      <td>2.987489</td>\n",
       "      <td>0.408691</td>\n",
       "      <td>379.228040</td>\n",
       "      <td>6.707195</td>\n",
       "    </tr>\n",
       "    <tr>\n",
       "      <th>min</th>\n",
       "      <td>1.000000</td>\n",
       "      <td>1.000000</td>\n",
       "      <td>1.000000</td>\n",
       "      <td>1.000000</td>\n",
       "      <td>0.000000</td>\n",
       "      <td>623.480000</td>\n",
       "      <td>75.000000</td>\n",
       "    </tr>\n",
       "    <tr>\n",
       "      <th>25%</th>\n",
       "      <td>1.000000</td>\n",
       "      <td>2.000000</td>\n",
       "      <td>3.000000</td>\n",
       "      <td>3.000000</td>\n",
       "      <td>0.000000</td>\n",
       "      <td>1561.760000</td>\n",
       "      <td>80.000000</td>\n",
       "    </tr>\n",
       "    <tr>\n",
       "      <th>50%</th>\n",
       "      <td>2.000000</td>\n",
       "      <td>3.000000</td>\n",
       "      <td>4.000000</td>\n",
       "      <td>5.000000</td>\n",
       "      <td>0.000000</td>\n",
       "      <td>1717.930000</td>\n",
       "      <td>85.000000</td>\n",
       "    </tr>\n",
       "    <tr>\n",
       "      <th>75%</th>\n",
       "      <td>7.000000</td>\n",
       "      <td>3.000000</td>\n",
       "      <td>6.000000</td>\n",
       "      <td>6.000000</td>\n",
       "      <td>0.000000</td>\n",
       "      <td>2079.000000</td>\n",
       "      <td>90.000000</td>\n",
       "    </tr>\n",
       "    <tr>\n",
       "      <th>max</th>\n",
       "      <td>7.000000</td>\n",
       "      <td>7.000000</td>\n",
       "      <td>7.000000</td>\n",
       "      <td>12.000000</td>\n",
       "      <td>1.000000</td>\n",
       "      <td>2079.000000</td>\n",
       "      <td>100.000000</td>\n",
       "    </tr>\n",
       "  </tbody>\n",
       "</table>\n",
       "</div>"
      ],
      "text/plain": [
       "               From            To           Day         Month       Holiday  \\\n",
       "count  10683.000000  10683.000000  10683.000000  10683.000000  10683.000000   \n",
       "mean       3.156510      2.658336      4.196106      5.534775      0.211925   \n",
       "std        2.527518      1.460358      1.852655      2.987489      0.408691   \n",
       "min        1.000000      1.000000      1.000000      1.000000      0.000000   \n",
       "25%        1.000000      2.000000      3.000000      3.000000      0.000000   \n",
       "50%        2.000000      3.000000      4.000000      5.000000      0.000000   \n",
       "75%        7.000000      3.000000      6.000000      6.000000      0.000000   \n",
       "max        7.000000      7.000000      7.000000     12.000000      1.000000   \n",
       "\n",
       "           Distance     Occupancy  \n",
       "count  10683.000000  10683.000000  \n",
       "mean    1745.265117     85.117944  \n",
       "std      379.228040      6.707195  \n",
       "min      623.480000     75.000000  \n",
       "25%     1561.760000     80.000000  \n",
       "50%     1717.930000     85.000000  \n",
       "75%     2079.000000     90.000000  \n",
       "max     2079.000000    100.000000  "
      ]
     },
     "execution_count": 5,
     "metadata": {},
     "output_type": "execute_result"
    }
   ],
   "source": [
    "data.info()\n",
    "data.describe()"
   ]
  },
  {
   "cell_type": "code",
   "execution_count": 6,
   "metadata": {},
   "outputs": [
    {
     "data": {
      "text/html": [
       "<div>\n",
       "<style scoped>\n",
       "    .dataframe tbody tr th:only-of-type {\n",
       "        vertical-align: middle;\n",
       "    }\n",
       "\n",
       "    .dataframe tbody tr th {\n",
       "        vertical-align: top;\n",
       "    }\n",
       "\n",
       "    .dataframe thead th {\n",
       "        text-align: right;\n",
       "    }\n",
       "</style>\n",
       "<table border=\"1\" class=\"dataframe\">\n",
       "  <thead>\n",
       "    <tr style=\"text-align: right;\">\n",
       "      <th></th>\n",
       "      <th>From</th>\n",
       "      <th>To</th>\n",
       "      <th>Day</th>\n",
       "      <th>Month</th>\n",
       "      <th>Holiday</th>\n",
       "      <th>Distance</th>\n",
       "      <th>Occupancy</th>\n",
       "    </tr>\n",
       "  </thead>\n",
       "  <tbody>\n",
       "    <tr>\n",
       "      <th>From</th>\n",
       "      <td>1.000000</td>\n",
       "      <td>-0.034994</td>\n",
       "      <td>0.161079</td>\n",
       "      <td>0.047829</td>\n",
       "      <td>0.012566</td>\n",
       "      <td>-0.600489</td>\n",
       "      <td>0.009602</td>\n",
       "    </tr>\n",
       "    <tr>\n",
       "      <th>To</th>\n",
       "      <td>-0.034994</td>\n",
       "      <td>1.000000</td>\n",
       "      <td>-0.019661</td>\n",
       "      <td>0.000041</td>\n",
       "      <td>-0.014191</td>\n",
       "      <td>-0.385441</td>\n",
       "      <td>-0.014074</td>\n",
       "    </tr>\n",
       "    <tr>\n",
       "      <th>Day</th>\n",
       "      <td>0.161079</td>\n",
       "      <td>-0.019661</td>\n",
       "      <td>1.000000</td>\n",
       "      <td>0.223546</td>\n",
       "      <td>-0.002965</td>\n",
       "      <td>-0.035821</td>\n",
       "      <td>-0.004732</td>\n",
       "    </tr>\n",
       "    <tr>\n",
       "      <th>Month</th>\n",
       "      <td>0.047829</td>\n",
       "      <td>0.000041</td>\n",
       "      <td>0.223546</td>\n",
       "      <td>1.000000</td>\n",
       "      <td>-0.368856</td>\n",
       "      <td>0.005959</td>\n",
       "      <td>-0.286578</td>\n",
       "    </tr>\n",
       "    <tr>\n",
       "      <th>Holiday</th>\n",
       "      <td>0.012566</td>\n",
       "      <td>-0.014191</td>\n",
       "      <td>-0.002965</td>\n",
       "      <td>-0.368856</td>\n",
       "      <td>1.000000</td>\n",
       "      <td>0.014292</td>\n",
       "      <td>0.761955</td>\n",
       "    </tr>\n",
       "    <tr>\n",
       "      <th>Distance</th>\n",
       "      <td>-0.600489</td>\n",
       "      <td>-0.385441</td>\n",
       "      <td>-0.035821</td>\n",
       "      <td>0.005959</td>\n",
       "      <td>0.014292</td>\n",
       "      <td>1.000000</td>\n",
       "      <td>0.020360</td>\n",
       "    </tr>\n",
       "    <tr>\n",
       "      <th>Occupancy</th>\n",
       "      <td>0.009602</td>\n",
       "      <td>-0.014074</td>\n",
       "      <td>-0.004732</td>\n",
       "      <td>-0.286578</td>\n",
       "      <td>0.761955</td>\n",
       "      <td>0.020360</td>\n",
       "      <td>1.000000</td>\n",
       "    </tr>\n",
       "  </tbody>\n",
       "</table>\n",
       "</div>"
      ],
      "text/plain": [
       "               From        To       Day     Month   Holiday  Distance  \\\n",
       "From       1.000000 -0.034994  0.161079  0.047829  0.012566 -0.600489   \n",
       "To        -0.034994  1.000000 -0.019661  0.000041 -0.014191 -0.385441   \n",
       "Day        0.161079 -0.019661  1.000000  0.223546 -0.002965 -0.035821   \n",
       "Month      0.047829  0.000041  0.223546  1.000000 -0.368856  0.005959   \n",
       "Holiday    0.012566 -0.014191 -0.002965 -0.368856  1.000000  0.014292   \n",
       "Distance  -0.600489 -0.385441 -0.035821  0.005959  0.014292  1.000000   \n",
       "Occupancy  0.009602 -0.014074 -0.004732 -0.286578  0.761955  0.020360   \n",
       "\n",
       "           Occupancy  \n",
       "From        0.009602  \n",
       "To         -0.014074  \n",
       "Day        -0.004732  \n",
       "Month      -0.286578  \n",
       "Holiday     0.761955  \n",
       "Distance    0.020360  \n",
       "Occupancy   1.000000  "
      ]
     },
     "execution_count": 6,
     "metadata": {},
     "output_type": "execute_result"
    }
   ],
   "source": [
    "data.corr()"
   ]
  },
  {
   "cell_type": "code",
   "execution_count": 7,
   "metadata": {},
   "outputs": [
    {
     "data": {
      "text/plain": [
       "<AxesSubplot:>"
      ]
     },
     "execution_count": 7,
     "metadata": {},
     "output_type": "execute_result"
    },
    {
     "data": {
      "image/png": "[encoded data removed]",
      "text/plain": [
       "<Figure size 432x288 with 2 Axes>"
      ]
     },
     "metadata": {
      "needs_background": "light"
     },
     "output_type": "display_data"
    }
   ],
   "source": [
    "import seaborn as sns\n",
    "\n",
    "cmap = sns.diverging_palette(100, 220, as_cmap=True)\n",
    "sns.heatmap(data.corr(), vmin=-1.0, vmax=1.0, cmap=cmap)"
   ]
  },
  {
   "cell_type": "code",
   "execution_count": 8,
   "metadata": {},
   "outputs": [
    {
     "data": {
      "text/plain": [
       "<AxesSubplot:xlabel='Day', ylabel='Occupancy'>"
      ]
     },
     "execution_count": 8,
     "metadata": {},
     "output_type": "execute_result"
    },
    {
     "data": {
      "image/png": "[encoded data removed]",
      "text/plain": [
       "<Figure size 432x288 with 1 Axes>"
      ]
     },
     "metadata": {
      "needs_background": "light"
     },
     "output_type": "display_data"
    }
   ],
   "source": [
    "sns.barplot(x=\"Day\",y=\"Occupancy\",data=data)"
   ]
  },
  {
   "cell_type": "code",
   "execution_count": 9,
   "metadata": {},
   "outputs": [
    {
     "data": {
      "text/plain": [
       "<AxesSubplot:xlabel='Holiday', ylabel='Occupancy'>"
      ]
     },
     "execution_count": 9,
     "metadata": {},
     "output_type": "execute_result"
    },
    {
     "data": {
      "image/png": "[encoded data removed]",
      "text/plain": [
       "<Figure size 432x288 with 1 Axes>"
      ]
     },
     "metadata": {
      "needs_background": "light"
     },
     "output_type": "display_data"
    }
   ],
   "source": [
    "sns.barplot(x=\"Holiday\",y=\"Occupancy\",data=data)"
   ]
  },
  {
   "cell_type": "code",
   "execution_count": null,
   "metadata": {
    "scrolled": true
   },
   "outputs": [],
   "source": []
  },
  {
   "cell_type": "markdown",
   "metadata": {},
   "source": [
    "# Visualisation"
   ]
  },
  {
   "cell_type": "code",
   "execution_count": 10,
   "metadata": {
    "scrolled": true
   },
   "outputs": [
    {
     "data": {
      "text/plain": [
       "<AxesSubplot:xlabel='Day'>"
      ]
     },
     "execution_count": 10,
     "metadata": {},
     "output_type": "execute_result"
    },
    {
     "data": {
      "image/png": "[encoded data removed]",
      "text/plain": [
       "<Figure size 288x288 with 1 Axes>"
      ]
     },
     "metadata": {
      "needs_background": "light"
     },
     "output_type": "display_data"
    }
   ],
   "source": [
    "fig, ax = plt.subplots(figsize=(4,4))\n",
    "data.groupby(['Day']).size().plot(kind = \"bar\")"
   ]
  },
  {
   "cell_type": "markdown",
   "metadata": {},
   "source": [
    "# Prediction Part"
   ]
  },
  {
   "cell_type": "code",
   "execution_count": 11,
   "metadata": {},
   "outputs": [],
   "source": [
    "x= data.iloc[:, 0:6].values  \n",
    "y= data.iloc[:, 6].values  \n",
    "\n",
    "# Splitting the dataset into training and test set.  \n",
    "from sklearn.model_selection import train_test_split \n",
    "x_train, x_test, y_train, y_test= train_test_split(x, y, test_size= 0.25, random_state=1) "
   ]
  },
  {
   "cell_type": "code",
   "execution_count": 12,
   "metadata": {},
   "outputs": [
    {
     "name": "stdout",
     "output_type": "stream",
     "text": [
      "Intercept: 81.81231651936086\n",
      "Coefficients : [ 3.06303505e-02  3.61867225e-02 -1.71402877e-02 -2.01078154e-02\n",
      "  1.24649590e+01  3.74674759e-04]\n"
     ]
    }
   ],
   "source": [
    "from sklearn import linear_model \n",
    "regr = linear_model.LinearRegression()\n",
    "regr.fit(x_train,y_train) \n",
    "y_pred=regr.predict(x_test)\n",
    "\n",
    "\n",
    "print('Intercept:', regr.intercept_)  \n",
    "print('Coefficients :', regr.coef_) "
   ]
  },
  {
   "cell_type": "code",
   "execution_count": 13,
   "metadata": {
    "scrolled": true
   },
   "outputs": [
    {
     "name": "stdout",
     "output_type": "stream",
     "text": [
      "coefficient of determination: 0.5807446376016331\n",
      "slope: [ 3.06303505e-02  3.61867225e-02 -1.71402877e-02 -2.01078154e-02\n",
      "  1.24649590e+01  3.74674759e-04]\n",
      "intercept: 81.81231651936086\n",
      "r2 score  0.5644800363570384\n",
      "Mean Absolute Error: 3.7824396219309477\n"
     ]
    }
   ],
   "source": [
    "r_sq = regr.score(x, y)\n",
    "print('coefficient of determination:', r_sq)\n",
    "print('slope:', regr.coef_)\n",
    "print('intercept:', regr.intercept_)\n",
    "\n",
    "r2 = metrics.r2_score(y_test,y_pred)\n",
    "print('r2 score ', r2)\n",
    "print('Mean Absolute Error:', metrics.mean_absolute_error(y_test, y_pred))"
   ]
  },
  {
   "cell_type": "markdown",
   "metadata": {},
   "source": [
    "# Save the model using pickle"
   ]
  },
  {
   "cell_type": "code",
   "execution_count": 15,
   "metadata": {},
   "outputs": [],
   "source": [
    "pickle.dump(regr, open('Occupancy.pkl','wb'))"
   ]
  },
  {
   "cell_type": "code",
   "execution_count": 16,
   "metadata": {},
   "outputs": [],
   "source": [
    "data.to_csv('Occupancy1.csv')"
   ]
  },
  {
   "cell_type": "code",
   "execution_count": 18,
   "metadata": {
    "scrolled": true
   },
   "outputs": [
    {
     "name": "stdout",
     "output_type": "stream",
     "text": [
      "   From  To  Day  Month  Holiday  Distance  Occupancy\n",
      "0     2   1    1      3        1   1717.93         92\n",
      "1     7   2    7      1        1   1561.76         98\n",
      "2     1   3    6      9        0   2079.00         81\n",
      "3     7   2    5     12        0   1561.76         84\n",
      "4     2   1    5      1        0   1717.93         80\n",
      "5     7   2    2      6        0   1561.76         83\n",
      "6     2   1    3     12        0   1717.93         86\n",
      "7     2   1    5      1        0   1717.93         86\n",
      "8     2   1    3     12        0   1717.93         81\n",
      "9     1   3    2      5        0   2079.00         88\n"
     ]
    }
   ],
   "source": [
    "# for i in data:\n",
    "#     for j in i:\n",
    "#         print(j,end=',')\n",
    "#     print()\n",
    "print(data[:][0:10])\n",
    "# From \tTo \tDay \tMonth \tHoliday \tDistance \tPrice"
   ]
  },
  {
   "cell_type": "code",
   "execution_count": 36,
   "metadata": {},
   "outputs": [
    {
     "name": "stdout",
     "output_type": "stream",
     "text": [
      "Predicted by Model 82.2607143030979\n",
      "Predicted by Formula 82.2607143030979\n"
     ]
    }
   ],
   "source": [
    "# From,To,Day,Month,Holiday,Distance\n",
    "x=[2,1,6,8,0,1717.93]\n",
    "y_pred=regr.predict([x])\n",
    "\n",
    "\n",
    "preda=0\n",
    "for i in range(len(x)):\n",
    "    preda=preda+regr.coef_[i]*x[i]\n",
    "preda=preda+regr.intercept_\n",
    "print('Predicted by Model',y_pred[0])\n",
    "print('Predicted by Formula',preda)"
   ]
  },
  {
   "cell_type": "code",
   "execution_count": null,
   "metadata": {},
   "outputs": [],
   "source": []
  }
 ],
 "metadata": {
  "kernelspec": {
   "display_name": "Python 3",
   "language": "python",
   "name": "python3"
  },
  "language_info": {
   "codemirror_mode": {
    "name": "ipython",
    "version": 3
   },
   "file_extension": ".py",
   "mimetype": "text/x-python",
   "name": "python",
   "nbconvert_exporter": "python",
   "pygments_lexer": "ipython3",
   "version": "3.8.10"
  }
 },
 "nbformat": 4,
 "nbformat_minor": 2
}
