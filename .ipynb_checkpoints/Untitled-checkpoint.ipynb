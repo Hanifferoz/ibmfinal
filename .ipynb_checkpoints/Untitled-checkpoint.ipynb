{
 "cells": [
  {
   "cell_type": "markdown",
   "id": "dbdf52e3",
   "metadata": {},
   "source": [
    "# Import Required Libraries"
   ]
  },
  {
   "cell_type": "code",
   "execution_count": 1,
   "id": "252d27a3",
   "metadata": {},
   "outputs": [],
   "source": [
    "import pickle \n",
    "import pandas as pd\n",
    "import numpy as np\n",
    "import matplotlib.pyplot as plt\n",
    "\n",
    "from sklearn.metrics import confusion_matrix\n",
    "from sklearn import metrics"
   ]
  },
  {
   "cell_type": "markdown",
   "id": "3eee2d05",
   "metadata": {},
   "source": [
    "# Reading the CSV File"
   ]
  },
  {
   "cell_type": "code",
   "execution_count": 39,
   "id": "80dc8539",
   "metadata": {
    "scrolled": true
   },
   "outputs": [
    {
     "data": {
      "text/html": [
       "<div>\n",
       "<style scoped>\n",
       "    .dataframe tbody tr th:only-of-type {\n",
       "        vertical-align: middle;\n",
       "    }\n",
       "\n",
       "    .dataframe tbody tr th {\n",
       "        vertical-align: top;\n",
       "    }\n",
       "\n",
       "    .dataframe thead th {\n",
       "        text-align: right;\n",
       "    }\n",
       "</style>\n",
       "<table border=\"1\" class=\"dataframe\">\n",
       "  <thead>\n",
       "    <tr style=\"text-align: right;\">\n",
       "      <th></th>\n",
       "      <th>From</th>\n",
       "      <th>To</th>\n",
       "      <th>Day</th>\n",
       "      <th>Month</th>\n",
       "      <th>Distance</th>\n",
       "      <th>Occupancy</th>\n",
       "      <th>Fuel_Cost</th>\n",
       "      <th>Ground_Cost</th>\n",
       "      <th>Price</th>\n",
       "    </tr>\n",
       "  </thead>\n",
       "  <tbody>\n",
       "    <tr>\n",
       "      <th>0</th>\n",
       "      <td>2</td>\n",
       "      <td>1</td>\n",
       "      <td>1</td>\n",
       "      <td>3</td>\n",
       "      <td>1717.93</td>\n",
       "      <td>92</td>\n",
       "      <td>8374.90875</td>\n",
       "      <td>1400</td>\n",
       "      <td>3393.959268</td>\n",
       "    </tr>\n",
       "    <tr>\n",
       "      <th>1</th>\n",
       "      <td>7</td>\n",
       "      <td>2</td>\n",
       "      <td>7</td>\n",
       "      <td>1</td>\n",
       "      <td>1561.76</td>\n",
       "      <td>98</td>\n",
       "      <td>6090.86400</td>\n",
       "      <td>1925</td>\n",
       "      <td>2635.470000</td>\n",
       "    </tr>\n",
       "    <tr>\n",
       "      <th>2</th>\n",
       "      <td>1</td>\n",
       "      <td>3</td>\n",
       "      <td>6</td>\n",
       "      <td>9</td>\n",
       "      <td>2079.00</td>\n",
       "      <td>81</td>\n",
       "      <td>8108.10000</td>\n",
       "      <td>1770</td>\n",
       "      <td>2153.250000</td>\n",
       "    </tr>\n",
       "    <tr>\n",
       "      <th>3</th>\n",
       "      <td>7</td>\n",
       "      <td>2</td>\n",
       "      <td>5</td>\n",
       "      <td>12</td>\n",
       "      <td>1561.76</td>\n",
       "      <td>84</td>\n",
       "      <td>6090.86400</td>\n",
       "      <td>1925</td>\n",
       "      <td>1405.584000</td>\n",
       "    </tr>\n",
       "    <tr>\n",
       "      <th>4</th>\n",
       "      <td>2</td>\n",
       "      <td>1</td>\n",
       "      <td>5</td>\n",
       "      <td>1</td>\n",
       "      <td>1717.93</td>\n",
       "      <td>80</td>\n",
       "      <td>6699.92700</td>\n",
       "      <td>1400</td>\n",
       "      <td>1885.532927</td>\n",
       "    </tr>\n",
       "  </tbody>\n",
       "</table>\n",
       "</div>"
      ],
      "text/plain": [
       "   From  To  Day  Month  Distance  Occupancy   Fuel_Cost  Ground_Cost  \\\n",
       "0     2   1    1      3   1717.93         92  8374.90875         1400   \n",
       "1     7   2    7      1   1561.76         98  6090.86400         1925   \n",
       "2     1   3    6      9   2079.00         81  8108.10000         1770   \n",
       "3     7   2    5     12   1561.76         84  6090.86400         1925   \n",
       "4     2   1    5      1   1717.93         80  6699.92700         1400   \n",
       "\n",
       "         Price  \n",
       "0  3393.959268  \n",
       "1  2635.470000  \n",
       "2  2153.250000  \n",
       "3  1405.584000  \n",
       "4  1885.532927  "
      ]
     },
     "execution_count": 39,
     "metadata": {},
     "output_type": "execute_result"
    }
   ],
   "source": [
    "data=pd.read_csv('finaldet.csv')\n",
    "data.head()"
   ]
  },
  {
   "cell_type": "code",
   "execution_count": 40,
   "id": "c70c4767",
   "metadata": {
    "scrolled": true
   },
   "outputs": [
    {
     "name": "stdout",
     "output_type": "stream",
     "text": [
      "No of Null Values From 0\n",
      "No of Null Values To 0\n",
      "No of Null Values Day 0\n",
      "No of Null Values Month 0\n",
      "No of Null Values Distance 0\n",
      "No of Null Values Holiday 0\n",
      "No of Null Values Fuel_Cost 0\n",
      "No of Null Values Occupancy 0\n",
      "No of Null Values Distance 0\n"
     ]
    },
    {
     "ename": "KeyError",
     "evalue": "'FlightId'",
     "output_type": "error",
     "traceback": [
      "\u001b[0;31m---------------------------------------------------------------------------\u001b[0m",
      "\u001b[0;31mKeyError\u001b[0m                                  Traceback (most recent call last)",
      "\u001b[0;32m~/anaconda3/lib/python3.8/site-packages/pandas/core/indexes/base.py\u001b[0m in \u001b[0;36mget_loc\u001b[0;34m(self, key, method, tolerance)\u001b[0m\n\u001b[1;32m   3079\u001b[0m             \u001b[0;32mtry\u001b[0m\u001b[0;34m:\u001b[0m\u001b[0;34m\u001b[0m\u001b[0;34m\u001b[0m\u001b[0m\n\u001b[0;32m-> 3080\u001b[0;31m                 \u001b[0;32mreturn\u001b[0m \u001b[0mself\u001b[0m\u001b[0;34m.\u001b[0m\u001b[0m_engine\u001b[0m\u001b[0;34m.\u001b[0m\u001b[0mget_loc\u001b[0m\u001b[0;34m(\u001b[0m\u001b[0mcasted_key\u001b[0m\u001b[0;34m)\u001b[0m\u001b[0;34m\u001b[0m\u001b[0;34m\u001b[0m\u001b[0m\n\u001b[0m\u001b[1;32m   3081\u001b[0m             \u001b[0;32mexcept\u001b[0m \u001b[0mKeyError\u001b[0m \u001b[0;32mas\u001b[0m \u001b[0merr\u001b[0m\u001b[0;34m:\u001b[0m\u001b[0;34m\u001b[0m\u001b[0;34m\u001b[0m\u001b[0m\n",
      "\u001b[0;32mpandas/_libs/index.pyx\u001b[0m in \u001b[0;36mpandas._libs.index.IndexEngine.get_loc\u001b[0;34m()\u001b[0m\n",
      "\u001b[0;32mpandas/_libs/index.pyx\u001b[0m in \u001b[0;36mpandas._libs.index.IndexEngine.get_loc\u001b[0;34m()\u001b[0m\n",
      "\u001b[0;32mpandas/_libs/hashtable_class_helper.pxi\u001b[0m in \u001b[0;36mpandas._libs.hashtable.PyObjectHashTable.get_item\u001b[0;34m()\u001b[0m\n",
      "\u001b[0;32mpandas/_libs/hashtable_class_helper.pxi\u001b[0m in \u001b[0;36mpandas._libs.hashtable.PyObjectHashTable.get_item\u001b[0;34m()\u001b[0m\n",
      "\u001b[0;31mKeyError\u001b[0m: 'FlightId'",
      "\nThe above exception was the direct cause of the following exception:\n",
      "\u001b[0;31mKeyError\u001b[0m                                  Traceback (most recent call last)",
      "\u001b[0;32m<ipython-input-40-51846bd4afbb>\u001b[0m in \u001b[0;36m<module>\u001b[0;34m\u001b[0m\n\u001b[1;32m      8\u001b[0m \u001b[0mprint\u001b[0m\u001b[0;34m(\u001b[0m\u001b[0;34m\"No of Null Values Occupancy\"\u001b[0m\u001b[0;34m,\u001b[0m\u001b[0mdata\u001b[0m\u001b[0;34m[\u001b[0m\u001b[0;34m'Occupancy'\u001b[0m\u001b[0;34m]\u001b[0m\u001b[0;34m.\u001b[0m\u001b[0misna\u001b[0m\u001b[0;34m(\u001b[0m\u001b[0;34m)\u001b[0m\u001b[0;34m.\u001b[0m\u001b[0msum\u001b[0m\u001b[0;34m(\u001b[0m\u001b[0;34m)\u001b[0m\u001b[0;34m)\u001b[0m\u001b[0;34m\u001b[0m\u001b[0;34m\u001b[0m\u001b[0m\n\u001b[1;32m      9\u001b[0m \u001b[0mprint\u001b[0m\u001b[0;34m(\u001b[0m\u001b[0;34m\"No of Null Values Distance\"\u001b[0m\u001b[0;34m,\u001b[0m\u001b[0mdata\u001b[0m\u001b[0;34m[\u001b[0m\u001b[0;34m'Distance'\u001b[0m\u001b[0;34m]\u001b[0m\u001b[0;34m.\u001b[0m\u001b[0misna\u001b[0m\u001b[0;34m(\u001b[0m\u001b[0;34m)\u001b[0m\u001b[0;34m.\u001b[0m\u001b[0msum\u001b[0m\u001b[0;34m(\u001b[0m\u001b[0;34m)\u001b[0m\u001b[0;34m)\u001b[0m\u001b[0;34m\u001b[0m\u001b[0;34m\u001b[0m\u001b[0m\n\u001b[0;32m---> 10\u001b[0;31m \u001b[0mprint\u001b[0m\u001b[0;34m(\u001b[0m\u001b[0;34m\"No of Null Values Flight Id\"\u001b[0m\u001b[0;34m,\u001b[0m\u001b[0mdata\u001b[0m\u001b[0;34m[\u001b[0m\u001b[0;34m'FlightId'\u001b[0m\u001b[0;34m]\u001b[0m\u001b[0;34m.\u001b[0m\u001b[0misna\u001b[0m\u001b[0;34m(\u001b[0m\u001b[0;34m)\u001b[0m\u001b[0;34m.\u001b[0m\u001b[0msum\u001b[0m\u001b[0;34m(\u001b[0m\u001b[0;34m)\u001b[0m\u001b[0;34m)\u001b[0m\u001b[0;34m\u001b[0m\u001b[0;34m\u001b[0m\u001b[0m\n\u001b[0m",
      "\u001b[0;32m~/anaconda3/lib/python3.8/site-packages/pandas/core/frame.py\u001b[0m in \u001b[0;36m__getitem__\u001b[0;34m(self, key)\u001b[0m\n\u001b[1;32m   3022\u001b[0m             \u001b[0;32mif\u001b[0m \u001b[0mself\u001b[0m\u001b[0;34m.\u001b[0m\u001b[0mcolumns\u001b[0m\u001b[0;34m.\u001b[0m\u001b[0mnlevels\u001b[0m \u001b[0;34m>\u001b[0m \u001b[0;36m1\u001b[0m\u001b[0;34m:\u001b[0m\u001b[0;34m\u001b[0m\u001b[0;34m\u001b[0m\u001b[0m\n\u001b[1;32m   3023\u001b[0m                 \u001b[0;32mreturn\u001b[0m \u001b[0mself\u001b[0m\u001b[0;34m.\u001b[0m\u001b[0m_getitem_multilevel\u001b[0m\u001b[0;34m(\u001b[0m\u001b[0mkey\u001b[0m\u001b[0;34m)\u001b[0m\u001b[0;34m\u001b[0m\u001b[0;34m\u001b[0m\u001b[0m\n\u001b[0;32m-> 3024\u001b[0;31m             \u001b[0mindexer\u001b[0m \u001b[0;34m=\u001b[0m \u001b[0mself\u001b[0m\u001b[0;34m.\u001b[0m\u001b[0mcolumns\u001b[0m\u001b[0;34m.\u001b[0m\u001b[0mget_loc\u001b[0m\u001b[0;34m(\u001b[0m\u001b[0mkey\u001b[0m\u001b[0;34m)\u001b[0m\u001b[0;34m\u001b[0m\u001b[0;34m\u001b[0m\u001b[0m\n\u001b[0m\u001b[1;32m   3025\u001b[0m             \u001b[0;32mif\u001b[0m \u001b[0mis_integer\u001b[0m\u001b[0;34m(\u001b[0m\u001b[0mindexer\u001b[0m\u001b[0;34m)\u001b[0m\u001b[0;34m:\u001b[0m\u001b[0;34m\u001b[0m\u001b[0;34m\u001b[0m\u001b[0m\n\u001b[1;32m   3026\u001b[0m                 \u001b[0mindexer\u001b[0m \u001b[0;34m=\u001b[0m \u001b[0;34m[\u001b[0m\u001b[0mindexer\u001b[0m\u001b[0;34m]\u001b[0m\u001b[0;34m\u001b[0m\u001b[0;34m\u001b[0m\u001b[0m\n",
      "\u001b[0;32m~/anaconda3/lib/python3.8/site-packages/pandas/core/indexes/base.py\u001b[0m in \u001b[0;36mget_loc\u001b[0;34m(self, key, method, tolerance)\u001b[0m\n\u001b[1;32m   3080\u001b[0m                 \u001b[0;32mreturn\u001b[0m \u001b[0mself\u001b[0m\u001b[0;34m.\u001b[0m\u001b[0m_engine\u001b[0m\u001b[0;34m.\u001b[0m\u001b[0mget_loc\u001b[0m\u001b[0;34m(\u001b[0m\u001b[0mcasted_key\u001b[0m\u001b[0;34m)\u001b[0m\u001b[0;34m\u001b[0m\u001b[0;34m\u001b[0m\u001b[0m\n\u001b[1;32m   3081\u001b[0m             \u001b[0;32mexcept\u001b[0m \u001b[0mKeyError\u001b[0m \u001b[0;32mas\u001b[0m \u001b[0merr\u001b[0m\u001b[0;34m:\u001b[0m\u001b[0;34m\u001b[0m\u001b[0;34m\u001b[0m\u001b[0m\n\u001b[0;32m-> 3082\u001b[0;31m                 \u001b[0;32mraise\u001b[0m \u001b[0mKeyError\u001b[0m\u001b[0;34m(\u001b[0m\u001b[0mkey\u001b[0m\u001b[0;34m)\u001b[0m \u001b[0;32mfrom\u001b[0m \u001b[0merr\u001b[0m\u001b[0;34m\u001b[0m\u001b[0;34m\u001b[0m\u001b[0m\n\u001b[0m\u001b[1;32m   3083\u001b[0m \u001b[0;34m\u001b[0m\u001b[0m\n\u001b[1;32m   3084\u001b[0m         \u001b[0;32mif\u001b[0m \u001b[0mtolerance\u001b[0m \u001b[0;32mis\u001b[0m \u001b[0;32mnot\u001b[0m \u001b[0;32mNone\u001b[0m\u001b[0;34m:\u001b[0m\u001b[0;34m\u001b[0m\u001b[0;34m\u001b[0m\u001b[0m\n",
      "\u001b[0;31mKeyError\u001b[0m: 'FlightId'"
     ]
    }
   ],
   "source": [
    "print(\"No of Null Values From\",data['From'].isna().sum())\n",
    "print(\"No of Null Values To\",data['To'].isna().sum())\n",
    "print(\"No of Null Values Day\",data['Day'].isna().sum())\n",
    "print(\"No of Null Values Month\",data['Month'].isna().sum())\n",
    "print(\"No of Null Values Distance\",data['Distance'].isna().sum())\n",
    "print(\"No of Null Values Holiday\",data['Ground_Cost'].isna().sum())\n",
    "print(\"No of Null Values Fuel_Cost\",data['Fuel_Cost'].isna().sum())\n",
    "print(\"No of Null Values Occupancy\",data['Occupancy'].isna().sum())\n",
    "print(\"No of Null Values Distance\",data['Distance'].isna().sum())\n",
    "print(\"No of Null Values Flight Id\",data['FlightId'].isna().sum())"
   ]
  },
  {
   "cell_type": "code",
   "execution_count": 41,
   "id": "d616c6f4",
   "metadata": {},
   "outputs": [
    {
     "name": "stdout",
     "output_type": "stream",
     "text": [
      "Empty DataFrame\n",
      "Columns: [From, To, Day, Month, Distance, Occupancy, Fuel_Cost, Ground_Cost, Price]\n",
      "Index: []\n",
      "Empty DataFrame\n",
      "Columns: [From, To, Day, Month, Distance, Occupancy, Fuel_Cost, Ground_Cost, Price]\n",
      "Index: []\n",
      "Empty DataFrame\n",
      "Columns: [From, To, Day, Month, Distance, Occupancy, Fuel_Cost, Ground_Cost, Price]\n",
      "Index: []\n",
      "Empty DataFrame\n",
      "Columns: [From, To, Day, Month, Distance, Occupancy, Fuel_Cost, Ground_Cost, Price]\n",
      "Index: []\n",
      "Empty DataFrame\n",
      "Columns: [From, To, Day, Month, Distance, Occupancy, Fuel_Cost, Ground_Cost, Price]\n",
      "Index: []\n",
      "Empty DataFrame\n",
      "Columns: [From, To, Day, Month, Distance, Occupancy, Fuel_Cost, Ground_Cost, Price]\n",
      "Index: []\n",
      "Empty DataFrame\n",
      "Columns: [From, To, Day, Month, Distance, Occupancy, Fuel_Cost, Ground_Cost, Price]\n",
      "Index: []\n"
     ]
    }
   ],
   "source": [
    "# Check null values\n",
    "print (data[pd.to_numeric(data.From, errors='coerce').isnull()])\n",
    "print (data[pd.to_numeric(data.To, errors='coerce').isnull()])\n",
    "print (data[pd.to_numeric(data.Day, errors='coerce').isnull()])\n",
    "print (data[pd.to_numeric(data.Month, errors='coerce').isnull()])\n",
    "print (data[pd.to_numeric(data.Distance, errors='coerce').isnull()])\n",
    "print (data[pd.to_numeric(data.Occupancy, errors='coerce').isnull()])\n",
    "print (data[pd.to_numeric(data.Price, errors='coerce').isnull()])"
   ]
  },
  {
   "cell_type": "code",
   "execution_count": 42,
   "id": "ebc8a473",
   "metadata": {},
   "outputs": [
    {
     "data": {
      "text/html": [
       "<div>\n",
       "<style scoped>\n",
       "    .dataframe tbody tr th:only-of-type {\n",
       "        vertical-align: middle;\n",
       "    }\n",
       "\n",
       "    .dataframe tbody tr th {\n",
       "        vertical-align: top;\n",
       "    }\n",
       "\n",
       "    .dataframe thead th {\n",
       "        text-align: right;\n",
       "    }\n",
       "</style>\n",
       "<table border=\"1\" class=\"dataframe\">\n",
       "  <thead>\n",
       "    <tr style=\"text-align: right;\">\n",
       "      <th></th>\n",
       "      <th>From</th>\n",
       "      <th>To</th>\n",
       "      <th>Day</th>\n",
       "      <th>Month</th>\n",
       "      <th>Distance</th>\n",
       "      <th>Occupancy</th>\n",
       "      <th>Fuel_Cost</th>\n",
       "      <th>Ground_Cost</th>\n",
       "      <th>Price</th>\n",
       "    </tr>\n",
       "  </thead>\n",
       "  <tbody>\n",
       "    <tr>\n",
       "      <th>From</th>\n",
       "      <td>1.000000</td>\n",
       "      <td>-0.034994</td>\n",
       "      <td>0.161079</td>\n",
       "      <td>0.047829</td>\n",
       "      <td>-0.600489</td>\n",
       "      <td>0.009602</td>\n",
       "      <td>-0.600506</td>\n",
       "      <td>0.544577</td>\n",
       "      <td>-0.373474</td>\n",
       "    </tr>\n",
       "    <tr>\n",
       "      <th>To</th>\n",
       "      <td>-0.034994</td>\n",
       "      <td>1.000000</td>\n",
       "      <td>-0.019661</td>\n",
       "      <td>0.000041</td>\n",
       "      <td>-0.385441</td>\n",
       "      <td>-0.014074</td>\n",
       "      <td>-0.385542</td>\n",
       "      <td>0.537037</td>\n",
       "      <td>-0.245294</td>\n",
       "    </tr>\n",
       "    <tr>\n",
       "      <th>Day</th>\n",
       "      <td>0.161079</td>\n",
       "      <td>-0.019661</td>\n",
       "      <td>1.000000</td>\n",
       "      <td>0.223546</td>\n",
       "      <td>-0.035821</td>\n",
       "      <td>-0.004732</td>\n",
       "      <td>-0.036002</td>\n",
       "      <td>0.133371</td>\n",
       "      <td>-0.026572</td>\n",
       "    </tr>\n",
       "    <tr>\n",
       "      <th>Month</th>\n",
       "      <td>0.047829</td>\n",
       "      <td>0.000041</td>\n",
       "      <td>0.223546</td>\n",
       "      <td>1.000000</td>\n",
       "      <td>0.005959</td>\n",
       "      <td>-0.286578</td>\n",
       "      <td>0.005869</td>\n",
       "      <td>0.068034</td>\n",
       "      <td>-0.234942</td>\n",
       "    </tr>\n",
       "    <tr>\n",
       "      <th>Distance</th>\n",
       "      <td>-0.600489</td>\n",
       "      <td>-0.385441</td>\n",
       "      <td>-0.035821</td>\n",
       "      <td>0.005959</td>\n",
       "      <td>1.000000</td>\n",
       "      <td>0.020360</td>\n",
       "      <td>0.999940</td>\n",
       "      <td>-0.273957</td>\n",
       "      <td>0.632165</td>\n",
       "    </tr>\n",
       "    <tr>\n",
       "      <th>Occupancy</th>\n",
       "      <td>0.009602</td>\n",
       "      <td>-0.014074</td>\n",
       "      <td>-0.004732</td>\n",
       "      <td>-0.286578</td>\n",
       "      <td>0.020360</td>\n",
       "      <td>1.000000</td>\n",
       "      <td>0.020467</td>\n",
       "      <td>0.000901</td>\n",
       "      <td>0.522704</td>\n",
       "    </tr>\n",
       "    <tr>\n",
       "      <th>Fuel_Cost</th>\n",
       "      <td>-0.600506</td>\n",
       "      <td>-0.385542</td>\n",
       "      <td>-0.036002</td>\n",
       "      <td>0.005869</td>\n",
       "      <td>0.999940</td>\n",
       "      <td>0.020467</td>\n",
       "      <td>1.000000</td>\n",
       "      <td>-0.274137</td>\n",
       "      <td>0.632294</td>\n",
       "    </tr>\n",
       "    <tr>\n",
       "      <th>Ground_Cost</th>\n",
       "      <td>0.544577</td>\n",
       "      <td>0.537037</td>\n",
       "      <td>0.133371</td>\n",
       "      <td>0.068034</td>\n",
       "      <td>-0.273957</td>\n",
       "      <td>0.000901</td>\n",
       "      <td>-0.274137</td>\n",
       "      <td>1.000000</td>\n",
       "      <td>-0.165771</td>\n",
       "    </tr>\n",
       "    <tr>\n",
       "      <th>Price</th>\n",
       "      <td>-0.373474</td>\n",
       "      <td>-0.245294</td>\n",
       "      <td>-0.026572</td>\n",
       "      <td>-0.234942</td>\n",
       "      <td>0.632165</td>\n",
       "      <td>0.522704</td>\n",
       "      <td>0.632294</td>\n",
       "      <td>-0.165771</td>\n",
       "      <td>1.000000</td>\n",
       "    </tr>\n",
       "  </tbody>\n",
       "</table>\n",
       "</div>"
      ],
      "text/plain": [
       "                 From        To       Day     Month  Distance  Occupancy  \\\n",
       "From         1.000000 -0.034994  0.161079  0.047829 -0.600489   0.009602   \n",
       "To          -0.034994  1.000000 -0.019661  0.000041 -0.385441  -0.014074   \n",
       "Day          0.161079 -0.019661  1.000000  0.223546 -0.035821  -0.004732   \n",
       "Month        0.047829  0.000041  0.223546  1.000000  0.005959  -0.286578   \n",
       "Distance    -0.600489 -0.385441 -0.035821  0.005959  1.000000   0.020360   \n",
       "Occupancy    0.009602 -0.014074 -0.004732 -0.286578  0.020360   1.000000   \n",
       "Fuel_Cost   -0.600506 -0.385542 -0.036002  0.005869  0.999940   0.020467   \n",
       "Ground_Cost  0.544577  0.537037  0.133371  0.068034 -0.273957   0.000901   \n",
       "Price       -0.373474 -0.245294 -0.026572 -0.234942  0.632165   0.522704   \n",
       "\n",
       "             Fuel_Cost  Ground_Cost     Price  \n",
       "From         -0.600506     0.544577 -0.373474  \n",
       "To           -0.385542     0.537037 -0.245294  \n",
       "Day          -0.036002     0.133371 -0.026572  \n",
       "Month         0.005869     0.068034 -0.234942  \n",
       "Distance      0.999940    -0.273957  0.632165  \n",
       "Occupancy     0.020467     0.000901  0.522704  \n",
       "Fuel_Cost     1.000000    -0.274137  0.632294  \n",
       "Ground_Cost  -0.274137     1.000000 -0.165771  \n",
       "Price         0.632294    -0.165771  1.000000  "
      ]
     },
     "execution_count": 42,
     "metadata": {},
     "output_type": "execute_result"
    }
   ],
   "source": [
    "data.corr()"
   ]
  },
  {
   "cell_type": "code",
   "execution_count": 43,
   "id": "c59351ce",
   "metadata": {},
   "outputs": [
    {
     "data": {
      "text/plain": [
       "<AxesSubplot:>"
      ]
     },
     "execution_count": 43,
     "metadata": {},
     "output_type": "execute_result"
    },
    {
     "data": {
      "image/png": "[encoded data removed]",
      "text/plain": [
       "<Figure size 432x288 with 2 Axes>"
      ]
     },
     "metadata": {
      "needs_background": "light"
     },
     "output_type": "display_data"
    }
   ],
   "source": [
    "import seaborn as sns\n",
    "cmap = sns.diverging_palette(220, 80, n=14)\n",
    "sns.heatmap(data.corr(), vmin=-1.0, vmax=1.0, cmap=cmap)"
   ]
  },
  {
   "cell_type": "code",
   "execution_count": 44,
   "id": "60284dc0",
   "metadata": {},
   "outputs": [
    {
     "data": {
      "text/plain": [
       "<AxesSubplot:xlabel='Day', ylabel='Occupancy'>"
      ]
     },
     "execution_count": 44,
     "metadata": {},
     "output_type": "execute_result"
    },
    {
     "data": {
      "image/png": "[encoded data removed]",
      "text/plain": [
       "<Figure size 432x288 with 1 Axes>"
      ]
     },
     "metadata": {
      "needs_background": "light"
     },
     "output_type": "display_data"
    }
   ],
   "source": [
    "sns.barplot(x=\"Day\",y=\"Occupancy\",data=data)"
   ]
  },
  {
   "cell_type": "markdown",
   "id": "8b9864f4",
   "metadata": {},
   "source": [
    "# Visualisation"
   ]
  },
  {
   "cell_type": "code",
   "execution_count": 45,
   "id": "5dca87c9",
   "metadata": {
    "scrolled": true
   },
   "outputs": [
    {
     "data": {
      "text/plain": [
       "<AxesSubplot:xlabel='Day'>"
      ]
     },
     "execution_count": 45,
     "metadata": {},
     "output_type": "execute_result"
    },
    {
     "data": {
      "image/png": "[encoded data removed]",
      "text/plain": [
       "<Figure size 288x288 with 1 Axes>"
      ]
     },
     "metadata": {
      "needs_background": "light"
     },
     "output_type": "display_data"
    }
   ],
   "source": [
    "fig, ax = plt.subplots(figsize=(4,4))\n",
    "data.groupby(['Day']).size().plot(kind = \"bar\")"
   ]
  },
  {
   "cell_type": "markdown",
   "id": "74b2fb1e",
   "metadata": {},
   "source": [
    "# Prediction Part"
   ]
  },
  {
   "cell_type": "code",
   "execution_count": 46,
   "id": "b2c1204f",
   "metadata": {},
   "outputs": [],
   "source": [
    "x= data.iloc[:, 0:8].values  \n",
    "y= data.iloc[:, 8].values  \n",
    "\n",
    "# Splitting the dataset into training and test set.  \n",
    "from sklearn.model_selection import train_test_split \n",
    "x_train, x_test, y_train, y_test= train_test_split(x, y, test_size= 0.25, random_state=1)\n"
   ]
  },
  {
   "cell_type": "code",
   "execution_count": 47,
   "id": "eb16b136",
   "metadata": {},
   "outputs": [
    {
     "name": "stdout",
     "output_type": "stream",
     "text": [
      "Intercept: -4653.099601545867\n",
      "Coefficients : [-10.86326237 -16.14555735   6.34811427 -26.78550306  -0.63171676\n",
      "  55.19618651   0.47350057   0.14329379]\n"
     ]
    }
   ],
   "source": [
    "from sklearn import linear_model \n",
    "regr = linear_model.LinearRegression()\n",
    "regr.fit(x_train,y_train) \n",
    "\n",
    "y_pred=regr.predict(x_test)\n",
    "print('Intercept:', regr.intercept_)  \n",
    "print('Coefficients :', regr.coef_) "
   ]
  },
  {
   "cell_type": "code",
   "execution_count": 48,
   "id": "e5464c8d",
   "metadata": {
    "scrolled": true
   },
   "outputs": [
    {
     "name": "stdout",
     "output_type": "stream",
     "text": [
      "coefficient of determination: 0.669834299169421\n",
      "slope: [-10.86326237 -16.14555735   6.34811427 -26.78550306  -0.63171676\n",
      "  55.19618651   0.47350057   0.14329379]\n",
      "intercept: -4653.099601545867\n",
      "r2 score for perfect model is 0.6755557597486583\n",
      "Mean Absolute Error: 356.8381723125346\n"
     ]
    }
   ],
   "source": [
    "r_sq = regr.score(x, y)\n",
    "print('coefficient of determination:', r_sq)\n",
    "print('slope:', regr.coef_)\n",
    "print('intercept:', regr.intercept_)\n",
    "\n",
    "r2 = metrics.r2_score(y_test,y_pred)\n",
    "print('r2 score for perfect model is', r2)\n",
    "print('Mean Absolute Error:', metrics.mean_absolute_error(y_test, y_pred))"
   ]
  },
  {
   "cell_type": "code",
   "execution_count": 50,
   "id": "47acf799",
   "metadata": {},
   "outputs": [
    {
     "data": {
      "image/png": "[encoded data removed]",
      "text/plain": [
       "<Figure size 432x288 with 1 Axes>"
      ]
     },
     "metadata": {
      "needs_background": "light"
     },
     "output_type": "display_data"
    }
   ],
   "source": [
    "fig, ax = plt.subplots()\n",
    "ax.scatter(y_test, y_pred)\n",
    "ax.plot([y_test.min(), y_test.max()], [y_test.min(), y_test.max()], 'k--', lw=4)\n",
    "ax.set_xlabel('measured')\n",
    "ax.set_ylabel('predicted')\n",
    "plt.show()"
   ]
  },
  {
   "cell_type": "markdown",
   "id": "b0dd54fe",
   "metadata": {},
   "source": [
    "# Save the model using pickle"
   ]
  },
  {
   "cell_type": "code",
   "execution_count": 51,
   "id": "77e396fc",
   "metadata": {},
   "outputs": [],
   "source": [
    "pickle.dump(regr, open('flightfare.pkl','wb'))"
   ]
  },
  {
   "cell_type": "code",
   "execution_count": 52,
   "id": "da48c305",
   "metadata": {},
   "outputs": [],
   "source": [
    "data.to_csv('flightfare1.csv')"
   ]
  },
  {
   "cell_type": "code",
   "execution_count": 53,
   "id": "4afd44bb",
   "metadata": {},
   "outputs": [
    {
     "name": "stdout",
     "output_type": "stream",
     "text": [
      "   From  To  Day  Month  Distance  Occupancy   Fuel_Cost  Ground_Cost  \\\n",
      "0     2   1    1      3   1717.93         92  8374.90875         1400   \n",
      "1     7   2    7      1   1561.76         98  6090.86400         1925   \n",
      "2     1   3    6      9   2079.00         81  8108.10000         1770   \n",
      "3     7   2    5     12   1561.76         84  6090.86400         1925   \n",
      "4     2   1    5      1   1717.93         80  6699.92700         1400   \n",
      "5     7   2    2      6   1561.76         83  6090.86400         1925   \n",
      "6     2   1    3     12   1717.93         86  6699.92700         1400   \n",
      "7     2   1    5      1   1717.93         86  6699.92700         1400   \n",
      "8     2   1    3     12   1717.93         81  6699.92700         1400   \n",
      "9     1   3    2      5   2079.00         88  8108.10000         1770   \n",
      "\n",
      "         Price  \n",
      "0  3393.959268  \n",
      "1  2635.470000  \n",
      "2  2153.250000  \n",
      "3  1405.584000  \n",
      "4  1885.532927  \n",
      "5  1634.400000  \n",
      "6  2016.700435  \n",
      "7  2186.456364  \n",
      "8  1581.276477  \n",
      "9  2002.000000  \n"
     ]
    }
   ],
   "source": [
    "print(data[:][0:10])"
   ]
  },
  {
   "cell_type": "code",
   "execution_count": 54,
   "id": "fb7e5546",
   "metadata": {},
   "outputs": [
    {
     "name": "stdout",
     "output_type": "stream",
     "text": [
      "The Cost is  2803\n"
     ]
    }
   ],
   "source": [
    "# From,To,Day,Month,Holiday,Distance,Price\n",
    "# x=[[1,3,4,3,0,2079.00,2182.950]]\n",
    "7   2    2      6   1561.76         83  6090.86400         1925 \n",
    "# From \tTo Day \tMonth \tDistance \tOccupancy \tFuel_Cost \tGround_Cost \tPrice\n",
    "row = [7,2,2,6,1561.76,83,6090.86,1925]\n",
    "print(\"The Cost is \",round(regr.predict([row])[0]))"
   ]
  },
  {
   "cell_type": "code",
   "execution_count": 55,
   "id": "4d90cf82",
   "metadata": {},
   "outputs": [],
   "source": [
    "pickle.dump(regr, open('FlightPred.pkl','wb'))"
   ]
  },
  {
   "cell_type": "code",
   "execution_count": null,
   "id": "ed7ab079",
   "metadata": {},
   "outputs": [],
   "source": []
  },
  {
   "cell_type": "code",
   "execution_count": null,
   "id": "3c2717f4",
   "metadata": {},
   "outputs": [],
   "source": []
  },
  {
   "cell_type": "code",
   "execution_count": null,
   "id": "2be82af0",
   "metadata": {},
   "outputs": [],
   "source": []
  },
  {
   "cell_type": "code",
   "execution_count": null,
   "id": "160b4641",
   "metadata": {},
   "outputs": [],
   "source": []
  }
 ],
 "metadata": {
  "kernelspec": {
   "display_name": "Python 3",
   "language": "python",
   "name": "python3"
  },
  "language_info": {
   "codemirror_mode": {
    "name": "ipython",
    "version": 3
   },
   "file_extension": ".py",
   "mimetype": "text/x-python",
   "name": "python",
   "nbconvert_exporter": "python",
   "pygments_lexer": "ipython3",
   "version": "3.8.10"
  }
 },
 "nbformat": 4,
 "nbformat_minor": 5
}
